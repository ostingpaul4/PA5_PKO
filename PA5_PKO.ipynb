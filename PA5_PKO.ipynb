{
 "cells": [
  {
   "cell_type": "markdown",
   "id": "20610bf8",
   "metadata": {},
   "source": [
    "# A"
   ]
  },
  {
   "cell_type": "code",
   "execution_count": 8,
   "id": "4b038f85",
   "metadata": {},
   "outputs": [
    {
     "name": "stdout",
     "output_type": "stream",
     "text": [
      "Enter a word to translate from English to Spanish (enter 0 to stop) : baseball\n",
      "béisbol\n",
      "Enter a word to translate from English to Spanish (enter 0 to stop) : hello\n",
      "hola\n",
      "Enter a word to translate from English to Spanish (enter 0 to stop) : 0\n"
     ]
    }
   ],
   "source": [
    "prompt='Enter a word to translate from English to Spanish (enter 0 to stop) : '\n",
    "dic={'hello':'hola','baseball':'béisbol','red':'rojo','blue':'azul','green':'verde','yellow':'amarillo','glove':'guante','cleat':'listón','win':'ganar','word':'palabra'}\n",
    "\n",
    "while True:\n",
    "    val=input(prompt)\n",
    "    if val=='0':\n",
    "        break\n",
    "    val1=dic.get(val)\n",
    "    print(val1)"
   ]
  },
  {
   "cell_type": "markdown",
   "id": "90b3587c",
   "metadata": {},
   "source": [
    "# B"
   ]
  },
  {
   "cell_type": "code",
   "execution_count": 27,
   "id": "f2198e28",
   "metadata": {},
   "outputs": [
    {
     "name": "stdout",
     "output_type": "stream",
     "text": [
      "Day 1\n",
      "Enter the high tempature in fahrenheit: 56\n",
      "Day 2\n",
      "Enter the high tempature in fahrenheit: 32\n",
      "The tempatures in fahrenheit are {1: 56, 2: 32}\n",
      "The tempatures in celcius are {1: 13.333333333333334, 2: 0.0}\n"
     ]
    }
   ],
   "source": [
    "data={}\n",
    "for i in range(1,32):\n",
    "    print('Day',i)\n",
    "    temp=int(input('Enter the high tempature in fahrenheit: '))\n",
    "    data[i]=temp\n",
    "print('The tempatures in fahrenheit are',data)\n",
    "for o in range(1,32):\n",
    "    data[o]=(data[o]-32)*(5/9)\n",
    "print('The tempatures in celcius are',data)"
   ]
  },
  {
   "cell_type": "markdown",
   "id": "72058e22",
   "metadata": {},
   "source": [
    "### C"
   ]
  },
  {
   "cell_type": "code",
   "execution_count": 14,
   "id": "defd9a8a",
   "metadata": {},
   "outputs": [
    {
     "name": "stdout",
     "output_type": "stream",
     "text": [
      "{1: 1, 2: 4, 3: 9, 4: 16, 5: 25, 6: 36, 7: 49, 8: 64, 9: 81, 10: 100, 11: 121, 12: 144, 13: 169, 14: 196, 15: 225}\n"
     ]
    }
   ],
   "source": [
    "dic={}\n",
    "for i in range(1,16):\n",
    "    dic[i]=i**2\n",
    "print(dic)"
   ]
  },
  {
   "cell_type": "code",
   "execution_count": null,
   "id": "5d23efdf",
   "metadata": {},
   "outputs": [],
   "source": []
  }
 ],
 "metadata": {
  "kernelspec": {
   "display_name": "Python 3 (ipykernel)",
   "language": "python",
   "name": "python3"
  },
  "language_info": {
   "codemirror_mode": {
    "name": "ipython",
    "version": 3
   },
   "file_extension": ".py",
   "mimetype": "text/x-python",
   "name": "python",
   "nbconvert_exporter": "python",
   "pygments_lexer": "ipython3",
   "version": "3.9.13"
  }
 },
 "nbformat": 4,
 "nbformat_minor": 5
}
